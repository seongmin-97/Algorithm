{
 "cells": [
  {
   "cell_type": "code",
   "execution_count": 2,
   "metadata": {},
   "outputs": [
    {
     "name": "stdout",
     "output_type": "stream",
     "text": [
      "5\n",
      "1 3 5 6 2\n",
      "1 6\n"
     ]
    }
   ],
   "source": [
    "n = int(input())\n",
    "data = list(map(int, input().split()))\n",
    "\n",
    "print(min(data), max(data))"
   ]
  },
  {
   "cell_type": "code",
   "execution_count": 3,
   "metadata": {},
   "outputs": [
    {
     "name": "stdout",
     "output_type": "stream",
     "text": [
      "5\n",
      "3\n",
      "4\n",
      "1\n",
      "2\n",
      "3\n",
      "8\n",
      "77\n",
      "65\n",
      "77\n",
      "8\n"
     ]
    }
   ],
   "source": [
    "data = []\n",
    "\n",
    "for i in range(9) :\n",
    "    data.append(int(input()))\n",
    "\n",
    "max_num = 0\n",
    "index = 0\n",
    "for idx in range(9) :\n",
    "    if data[idx] > max_num :\n",
    "        max_num = data[idx]\n",
    "        index = idx + 1\n",
    "\n",
    "print(max_num)\n",
    "print(index)"
   ]
  },
  {
   "cell_type": "code",
   "execution_count": 4,
   "metadata": {},
   "outputs": [
    {
     "name": "stdout",
     "output_type": "stream",
     "text": [
      "150\n",
      "266\n",
      "427\n",
      "3\n",
      "1\n",
      "0\n",
      "2\n",
      "0\n",
      "0\n",
      "0\n",
      "2\n",
      "0\n",
      "0\n"
     ]
    }
   ],
   "source": [
    "a = int(input())\n",
    "b = int(input())\n",
    "c = int(input())\n",
    "\n",
    "abc = str(a * b * c)\n",
    "\n",
    "data = []\n",
    "count = 0\n",
    "for num in range(10) :\n",
    "    for i in abc :\n",
    "        if int(i) == num :\n",
    "            count += 1\n",
    "    data.append(count)\n",
    "    count = 0\n",
    "    \n",
    "for i in data :\n",
    "    print(i)"
   ]
  },
  {
   "cell_type": "code",
   "execution_count": 6,
   "metadata": {},
   "outputs": [
    {
     "name": "stdout",
     "output_type": "stream",
     "text": [
      "24\n",
      "35\n",
      "56\n",
      "68\n",
      "35\n",
      "56\n",
      "24\n",
      "1\n",
      "1\n",
      "1\n",
      "5\n"
     ]
    }
   ],
   "source": [
    "data = []\n",
    "\n",
    "for _ in range(10) :\n",
    "    data.append(int(input()))\n",
    "    \n",
    "for idx in range(10) :\n",
    "    data[idx] %= 42\n",
    "    \n",
    "data = set(data)\n",
    "print(len(data))"
   ]
  },
  {
   "cell_type": "code",
   "execution_count": 13,
   "metadata": {},
   "outputs": [
    {
     "name": "stdout",
     "output_type": "stream",
     "text": [
      "3\n",
      "10 20 30\n",
      "66.66666666666667\n"
     ]
    }
   ],
   "source": [
    "N = int(input())\n",
    "data = list(map(int, input().split()))\n",
    "\n",
    "max_score = max(data)\n",
    "\n",
    "for idx in range(len(data)) :\n",
    "    data[idx] = data[idx]/max_score * 100\n",
    "        \n",
    "mean = sum(data) / len(data)\n",
    "print(mean)"
   ]
  },
  {
   "cell_type": "code",
   "execution_count": 24,
   "metadata": {},
   "outputs": [
    {
     "name": "stdout",
     "output_type": "stream",
     "text": [
      "1\n",
      "OOXXOOXXOO\n",
      "1\n",
      "3\n",
      "3\n",
      "3\n",
      "4\n",
      "6\n",
      "6\n",
      "6\n",
      "7\n",
      "9\n",
      "9\n"
     ]
    }
   ],
   "source": [
    "N = int(input())\n",
    "data = []\n",
    "\n",
    "for _ in range(N) :\n",
    "    data.append(input())\n",
    "    \n",
    "full_score = 0\n",
    "score = 1\n",
    "score_data = []\n",
    "for answer in data :\n",
    "    for idx in range(len(answer)) :\n",
    "        if idx == 0 :\n",
    "            if answer[idx] == 'O' :\n",
    "                full_score += score\n",
    "        else :\n",
    "            if answer[idx-1] == 'O' :\n",
    "                score += 1\n",
    "            else :\n",
    "                score = 1\n",
    "                \n",
    "            if answer[idx] == 'O' :\n",
    "                full_score += score\n",
    "    \n",
    "    score_data.append(full_score)\n",
    "    full_score = 0\n",
    "    score = 1\n",
    "    \n",
    "for score in score_data :\n",
    "    print(score)"
   ]
  },
  {
   "cell_type": "code",
   "execution_count": 48,
   "metadata": {},
   "outputs": [
    {
     "name": "stdout",
     "output_type": "stream",
     "text": [
      "1\n",
      "1 0\n",
      "[0.0]\n",
      "[[1, 0]]\n",
      "0\n",
      "0.000%\n"
     ]
    }
   ],
   "source": [
    "N = int(input())\n",
    "data = []\n",
    "\n",
    "for _ in range(N) :\n",
    "    data.append(list(map(int, input().split())))\n",
    "    \n",
    "sum_ = 0\n",
    "mean = []\n",
    "for subject in data :\n",
    "    for idx in range(len(subject)) :\n",
    "        if idx == 0 :\n",
    "            continue\n",
    "        else :\n",
    "            sum_ += subject[idx]\n",
    "    \n",
    "    mean.append(sum_/subject[0])\n",
    "    sum_ = 0\n",
    "    \n",
    "results = []\n",
    "count = 0\n",
    "for idx in range(len(data)) :\n",
    "    for i in range(len(data[idx])) :\n",
    "        if i == 0 :\n",
    "            continue\n",
    "        else :\n",
    "            if data[idx][i] > mean[idx] :\n",
    "                count += 1\n",
    "    results.append(count / data[idx][0])\n",
    "    count = 0\n",
    "    \n",
    "for result in results :\n",
    "    rate = result*100\n",
    "    print(f'{rate:.3f}%')"
   ]
  }
 ],
 "metadata": {
  "kernelspec": {
   "display_name": "Python 3",
   "language": "python",
   "name": "python3"
  },
  "language_info": {
   "codemirror_mode": {
    "name": "ipython",
    "version": 3
   },
   "file_extension": ".py",
   "mimetype": "text/x-python",
   "name": "python",
   "nbconvert_exporter": "python",
   "pygments_lexer": "ipython3",
   "version": "3.7.7"
  }
 },
 "nbformat": 4,
 "nbformat_minor": 4
}

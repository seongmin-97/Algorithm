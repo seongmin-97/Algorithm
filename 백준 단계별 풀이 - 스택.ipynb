{
 "cells": [
  {
   "cell_type": "code",
   "execution_count": 2,
   "metadata": {},
   "outputs": [
    {
     "name": "stdout",
     "output_type": "stream",
     "text": [
      "14\n",
      "push 1\n",
      "push 2\n",
      "top\n",
      "size\n",
      "empty\n",
      "pop\n",
      "pop\n",
      "pp\n",
      "size\n",
      "empty\n",
      "pop\n",
      "push 3\n",
      "empty\n",
      "top\n",
      "2\n",
      "2\n",
      "0\n",
      "2\n",
      "1\n",
      "0\n",
      "1\n",
      "-1\n",
      "0\n",
      "3\n"
     ]
    }
   ],
   "source": [
    "N = int(input())\n",
    "commands = []\n",
    "stack = []\n",
    "\n",
    "for _ in range(N) :\n",
    "    commands.append(input().split())\n",
    "    \n",
    "def push(x) :\n",
    "    stack.append(x)\n",
    "\n",
    "def pop() :\n",
    "    if len(stack) == 0 :\n",
    "        return -1\n",
    "    result = stack.pop()\n",
    "    return result\n",
    "\n",
    "def size() :\n",
    "    return len(stack)\n",
    "\n",
    "def empty() :\n",
    "    if len(stack) == 0 :\n",
    "        return 1\n",
    "    else :\n",
    "        return 0\n",
    "    \n",
    "def top() :\n",
    "    if len(stack) == 0 :\n",
    "        return -1\n",
    "    else :\n",
    "        return stack[-1]\n",
    "\n",
    "for command in commands :\n",
    "    if command[0] == 'push' :\n",
    "        push(command[1])\n",
    "    elif command[0] == 'pop' :\n",
    "        print(pop())\n",
    "    elif command[0] == 'size' :\n",
    "        print(size())\n",
    "    elif command[0] == 'empty' :\n",
    "        print(empty())\n",
    "    elif command[0] == 'top' :\n",
    "        print(top())"
   ]
  },
  {
   "cell_type": "code",
   "execution_count": 5,
   "metadata": {},
   "outputs": [
    {
     "name": "stdout",
     "output_type": "stream",
     "text": [
      "10\n",
      "1\n",
      "3\n",
      "5\n",
      "4\n",
      "0\n",
      "0\n",
      "7\n",
      "0\n",
      "0\n",
      "6\n",
      "7\n"
     ]
    }
   ],
   "source": [
    "K = int(input())\n",
    "nums = []\n",
    "\n",
    "for _ in range(K) :\n",
    "    data = int(input())\n",
    "    if data == 0 :\n",
    "        if len(nums) != 0 :\n",
    "            nums.pop()\n",
    "    else :\n",
    "        nums.append(data)\n",
    "        \n",
    "print(sum(nums))"
   ]
  },
  {
   "cell_type": "code",
   "execution_count": 15,
   "metadata": {},
   "outputs": [
    {
     "name": "stdout",
     "output_type": "stream",
     "text": [
      "6\n",
      "(())())\n",
      "(((()())()\n",
      "(()())((()))\n",
      "((()()(()))(((())))()\n",
      "()()()()(()()())()\n",
      "(()((())()(\n",
      "NO\n",
      "NO\n",
      "YES\n",
      "NO\n",
      "YES\n",
      "NO\n"
     ]
    }
   ],
   "source": [
    "T = int(input())\n",
    "front = 0\n",
    "back = 0\n",
    "check = 0\n",
    "results = []\n",
    "\n",
    "for _ in range(T) :\n",
    "    check = 0\n",
    "    data = list(input())\n",
    "    for unit in data :\n",
    "        if unit == \"(\" :\n",
    "            front += 1\n",
    "        elif unit == \")\" :\n",
    "            back += 1\n",
    "            if back > front :\n",
    "                results.append(\"NO\")\n",
    "                check = 1\n",
    "                break\n",
    "    if check == 0 :            \n",
    "        if front == back :\n",
    "            results.append(\"YES\")\n",
    "        else :\n",
    "            results.append(\"NO\")\n",
    "    \n",
    "    front = 0\n",
    "    back = 0\n",
    "    \n",
    "for result in results :\n",
    "    print(result)"
   ]
  }
 ],
 "metadata": {
  "kernelspec": {
   "display_name": "Python 3",
   "language": "python",
   "name": "python3"
  },
  "language_info": {
   "codemirror_mode": {
    "name": "ipython",
    "version": 3
   },
   "file_extension": ".py",
   "mimetype": "text/x-python",
   "name": "python",
   "nbconvert_exporter": "python",
   "pygments_lexer": "ipython3",
   "version": "3.7.7"
  }
 },
 "nbformat": 4,
 "nbformat_minor": 4
}
